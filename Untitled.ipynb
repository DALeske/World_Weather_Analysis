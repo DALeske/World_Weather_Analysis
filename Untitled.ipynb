{
 "cells": [
  {
   "cell_type": "code",
   "execution_count": 1,
   "id": "d430804e",
   "metadata": {},
   "outputs": [
    {
     "ename": "ImportError",
     "evalue": "cannot import name 'gkey' from 'config' (C:\\Users\\leske\\OneDrive\\Desktop\\BootCamp\\World_Weather_Analysis\\config.py)",
     "output_type": "error",
     "traceback": [
      "\u001b[1;31m---------------------------------------------------------------------------\u001b[0m",
      "\u001b[1;31mImportError\u001b[0m                               Traceback (most recent call last)",
      "\u001b[1;32m~\\AppData\\Local\\Temp/ipykernel_19648/3110788601.py\u001b[0m in \u001b[0;36m<module>\u001b[1;34m\u001b[0m\n\u001b[0;32m      2\u001b[0m \u001b[1;32mimport\u001b[0m \u001b[0mjson\u001b[0m\u001b[1;33m\u001b[0m\u001b[1;33m\u001b[0m\u001b[0m\n\u001b[0;32m      3\u001b[0m \u001b[1;33m\u001b[0m\u001b[0m\n\u001b[1;32m----> 4\u001b[1;33m \u001b[1;32mfrom\u001b[0m \u001b[0mconfig\u001b[0m \u001b[1;32mimport\u001b[0m \u001b[0mgkey\u001b[0m\u001b[1;33m\u001b[0m\u001b[1;33m\u001b[0m\u001b[0m\n\u001b[0m",
      "\u001b[1;31mImportError\u001b[0m: cannot import name 'gkey' from 'config' (C:\\Users\\leske\\OneDrive\\Desktop\\BootCamp\\World_Weather_Analysis\\config.py)"
     ]
    }
   ],
   "source": [
    "import requests\n",
    "import json\n",
    "\n",
    "from config import gkey\n"
   ]
  },
  {
   "cell_type": "code",
   "execution_count": null,
   "id": "c66a1749",
   "metadata": {},
   "outputs": [],
   "source": [
    "targetcoord = 43.6187102, -116.22146068\n",
    "targetrad = 8000\n",
    "targetkeyword = \"Chinese\"\n",
    "targettype = \"restaurant\"\n",
    "\n",
    "params = {\"location\": targetcoord,\n",
    "          \"keyword\": targetkeyword,\n",
    "          \"radius\": targetrad,\n",
    "          \"type\": targettype,\n",
    "          \"key\": gkey    \n",
    "}\n",
    "\n",
    "base_url = f\"https://maps.googleapis.com/maps/api/place/textsearch/json?{params}\"\n",
    "\n",
    "geo_data = requests.get(base_url).json()"
   ]
  },
  {
   "cell_type": "code",
   "execution_count": null,
   "id": "c2804452",
   "metadata": {},
   "outputs": [],
   "source": [
    "geo_data"
   ]
  },
  {
   "cell_type": "code",
   "execution_count": null,
   "id": "f695326b",
   "metadata": {},
   "outputs": [],
   "source": []
  }
 ],
 "metadata": {
  "kernelspec": {
   "display_name": "PythonData",
   "language": "python",
   "name": "pythondata"
  },
  "language_info": {
   "codemirror_mode": {
    "name": "ipython",
    "version": 3
   },
   "file_extension": ".py",
   "mimetype": "text/x-python",
   "name": "python",
   "nbconvert_exporter": "python",
   "pygments_lexer": "ipython3",
   "version": "3.7.11"
  }
 },
 "nbformat": 4,
 "nbformat_minor": 5
}
