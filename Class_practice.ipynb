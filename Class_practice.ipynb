{
 "cells": [
  {
   "cell_type": "code",
   "execution_count": 1,
   "id": "1a811ea9",
   "metadata": {},
   "outputs": [],
   "source": [
    "# Import dependencies\n",
    "import requests\n",
    "from pprint import pprint\n",
    "import json"
   ]
  },
  {
   "cell_type": "code",
   "execution_count": 2,
   "id": "14a225c5",
   "metadata": {},
   "outputs": [],
   "source": [
    "# import the API key\n",
    "from config import nyt_api_key\n",
    "\n",
    "url = \"https://api.nytimes.com/svc/search/v2/articlessearch.json?\""
   ]
  },
  {
   "cell_type": "code",
   "execution_count": 3,
   "id": "d8f6a70b",
   "metadata": {},
   "outputs": [],
   "source": [
    "# search for granola\n",
    "query = \"granola\""
   ]
  },
  {
   "cell_type": "code",
   "execution_count": 4,
   "id": "875c7e62",
   "metadata": {},
   "outputs": [],
   "source": [
    "# BUild query URL\n",
    "query_url = url + \"api-key=\" + nyt_api_key + \"&q=\" + query\n"
   ]
  },
  {
   "cell_type": "raw",
   "id": "46a4406b",
   "metadata": {},
   "source": [
    "articles = requests.get(query_url).json()\n",
    "\n",
    "articles_list = [article for article in articles[\"responses\"][\"docs\"]]\n",
    "pprint(articles_list)"
   ]
  },
  {
   "cell_type": "code",
   "execution_count": null,
   "id": "ad463473",
   "metadata": {},
   "outputs": [],
   "source": []
  }
 ],
 "metadata": {
  "kernelspec": {
   "display_name": "PythonData",
   "language": "python",
   "name": "pythondata"
  },
  "language_info": {
   "codemirror_mode": {
    "name": "ipython",
    "version": 3
   },
   "file_extension": ".py",
   "mimetype": "text/x-python",
   "name": "python",
   "nbconvert_exporter": "python",
   "pygments_lexer": "ipython3",
   "version": "3.7.11"
  }
 },
 "nbformat": 4,
 "nbformat_minor": 5
}
