{
 "cells": [
  {
   "cell_type": "code",
   "execution_count": 1,
   "id": "c1ac2c12",
   "metadata": {},
   "outputs": [],
   "source": [
    "# Import the random module\n",
    "import random"
   ]
  },
  {
   "cell_type": "code",
   "execution_count": 3,
   "id": "8ea1d634",
   "metadata": {},
   "outputs": [
    {
     "data": {
      "text/plain": [
       "85"
      ]
     },
     "execution_count": 3,
     "metadata": {},
     "output_type": "execute_result"
    }
   ],
   "source": [
    "random.randint(-90,90)"
   ]
  },
  {
   "cell_type": "code",
   "execution_count": 4,
   "id": "5ad39648",
   "metadata": {},
   "outputs": [
    {
     "data": {
      "text/plain": [
       "0.17395293426789593"
      ]
     },
     "execution_count": 4,
     "metadata": {},
     "output_type": "execute_result"
    }
   ],
   "source": [
    "random.random()"
   ]
  },
  {
   "cell_type": "code",
   "execution_count": 39,
   "id": "758b654b",
   "metadata": {},
   "outputs": [
    {
     "data": {
      "text/plain": [
       "-85.0621745993137"
      ]
     },
     "execution_count": 39,
     "metadata": {},
     "output_type": "execute_result"
    }
   ],
   "source": [
    "random_number = random.randint(-90, 89) + random.random()\n",
    "random_number"
   ]
  },
  {
   "cell_type": "code",
   "execution_count": 41,
   "id": "2ea5052d",
   "metadata": {},
   "outputs": [],
   "source": [
    "x = 1\n",
    "latitudes = []\n",
    "while x < 11:\n",
    "    random_lat = random.randint(-90, 89) + random.random()\n",
    "    latitudes.append(random_lat)\n",
    "    x += 1"
   ]
  },
  {
   "cell_type": "code",
   "execution_count": 42,
   "id": "db05dbaf",
   "metadata": {},
   "outputs": [
    {
     "data": {
      "text/plain": [
       "[8.597077551832017,\n",
       " -0.9034741821005557,\n",
       " 89.89676552377317,\n",
       " -56.90608861172411,\n",
       " 86.34467428850634,\n",
       " 3.8685554386785075,\n",
       " -26.65945462899835,\n",
       " -46.60640662061602,\n",
       " 45.55975181833888,\n",
       " 64.33934213323818]"
      ]
     },
     "execution_count": 42,
     "metadata": {},
     "output_type": "execute_result"
    }
   ],
   "source": [
    "latitudes"
   ]
  },
  {
   "cell_type": "code",
   "execution_count": 53,
   "id": "206dec36",
   "metadata": {},
   "outputs": [
    {
     "data": {
      "text/plain": [
       "-21"
      ]
     },
     "execution_count": 53,
     "metadata": {},
     "output_type": "execute_result"
    }
   ],
   "source": [
    "random.randrange(-90,90,step = 3)"
   ]
  },
  {
   "cell_type": "code",
   "execution_count": 63,
   "id": "a080c300",
   "metadata": {},
   "outputs": [
    {
     "data": {
      "text/plain": [
       "89.69890949505307"
      ]
     },
     "execution_count": 63,
     "metadata": {},
     "output_type": "execute_result"
    }
   ],
   "source": [
    "random.uniform(-90,90)"
   ]
  },
  {
   "cell_type": "code",
   "execution_count": 64,
   "id": "a48cb5e7",
   "metadata": {},
   "outputs": [],
   "source": [
    "# Import NumPy module\n",
    "import numpy as np"
   ]
  },
  {
   "cell_type": "code",
   "execution_count": 75,
   "id": "49df500f",
   "metadata": {},
   "outputs": [
    {
     "data": {
      "text/plain": [
       "-17.28473405829388"
      ]
     },
     "execution_count": 75,
     "metadata": {},
     "output_type": "execute_result"
    }
   ],
   "source": [
    "np.random.uniform(-90.000, 90.000)"
   ]
  },
  {
   "cell_type": "code",
   "execution_count": 77,
   "id": "2509a936",
   "metadata": {},
   "outputs": [
    {
     "data": {
      "text/plain": [
       "array([-30.46413588,  51.49918022, -34.64942952, -45.09107928,\n",
       "         3.57480448, -22.25515514,  13.88343483, -54.26915311,\n",
       "        37.94718044, -75.05571173,  36.97182802, -55.87616408,\n",
       "       -36.62163193,  58.0939284 ,  81.60113675,  38.24045338,\n",
       "        26.41294266, -68.8614684 ,   1.822662  ,  69.26941101,\n",
       "       -53.01751179, -38.96817126, -13.85461462, -53.19646306,\n",
       "       -87.8809738 , -32.24917496,  42.62292069,  43.31964369,\n",
       "         2.70108946, -57.3042196 , -51.26935171,   9.79661967,\n",
       "        -7.34038326,   3.84585096, -57.42816616, -10.8603298 ,\n",
       "        89.01691079,  23.97133268,  -2.6250557 ,  -1.51300804,\n",
       "        60.71158138,  67.19966157,  19.83101226,  -2.20983857,\n",
       "       -64.38148393,   1.68884913,  31.31273718,  18.13451533,\n",
       "        58.16630323, -76.06104202])"
      ]
     },
     "execution_count": 77,
     "metadata": {},
     "output_type": "execute_result"
    }
   ],
   "source": [
    "np.random.uniform(-90,90,size = 50)"
   ]
  },
  {
   "cell_type": "code",
   "execution_count": 80,
   "id": "6b896fa9",
   "metadata": {},
   "outputs": [],
   "source": [
    "# Import timeit.\n",
    "import timeit"
   ]
  },
  {
   "cell_type": "code",
   "execution_count": 84,
   "id": "603c665a",
   "metadata": {},
   "outputs": [
    {
     "name": "stdout",
     "output_type": "stream",
     "text": [
      "11.3 µs ± 76.4 ns per loop (mean ± std. dev. of 7 runs, 100000 loops each)\n"
     ]
    }
   ],
   "source": [
    "#%timeit np.random.uniform(-90,90,size = 1500)"
   ]
  },
  {
   "cell_type": "code",
   "execution_count": 85,
   "id": "f061b86c",
   "metadata": {},
   "outputs": [
    {
     "name": "stdout",
     "output_type": "stream",
     "text": [
      "1.48 ms ± 16.5 µs per loop (mean ± std. dev. of 7 runs, 1000 loops each)\n"
     ]
    }
   ],
   "source": [
    "def latitudes(size):\n",
    "    latitudes = []\n",
    "    x = 0\n",
    "    while x < (size):\n",
    "        random_lat = random.randint(-90, 90) + random.random()\n",
    "        latitudes.append(random_lat)\n",
    "        x += 1\n",
    "    return latitudes\n",
    "# Call the function with 1500.\n",
    "#%timeit latitudes(1500)"
   ]
  },
  {
   "cell_type": "code",
   "execution_count": null,
   "id": "b4e675db",
   "metadata": {},
   "outputs": [],
   "source": []
  }
 ],
 "metadata": {
  "kernelspec": {
   "display_name": "PythonData",
   "language": "python",
   "name": "pythondata"
  },
  "language_info": {
   "codemirror_mode": {
    "name": "ipython",
    "version": 3
   },
   "file_extension": ".py",
   "mimetype": "text/x-python",
   "name": "python",
   "nbconvert_exporter": "python",
   "pygments_lexer": "ipython3",
   "version": "3.7.11"
  }
 },
 "nbformat": 4,
 "nbformat_minor": 5
}
